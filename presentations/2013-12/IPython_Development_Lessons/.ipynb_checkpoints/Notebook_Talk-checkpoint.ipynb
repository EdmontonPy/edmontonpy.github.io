{
 "metadata": {
  "name": ""
 },
 "nbformat": 3,
 "nbformat_minor": 0,
 "worksheets": [
  {
   "cells": [
    {
     "cell_type": "heading",
     "level": 1,
     "metadata": {},
     "source": [
      "What's Special About the Notebook?"
     ]
    },
    {
     "cell_type": "heading",
     "level": 3,
     "metadata": {},
     "source": [
      "Cells"
     ]
    },
    {
     "cell_type": "heading",
     "level": 1,
     "metadata": {},
     "source": [
      "Header cell"
     ]
    },
    {
     "cell_type": "markdown",
     "metadata": {},
     "source": [
      "___Markdown___ cell"
     ]
    },
    {
     "cell_type": "raw",
     "metadata": {},
     "source": [
      "Raw text cell"
     ]
    },
    {
     "cell_type": "code",
     "collapsed": false,
     "input": [
      "# Code cell"
     ],
     "language": "python",
     "metadata": {},
     "outputs": [],
     "prompt_number": 1
    },
    {
     "cell_type": "heading",
     "level": 3,
     "metadata": {},
     "source": [
      "You Never Leave The Notebook"
     ]
    },
    {
     "cell_type": "markdown",
     "metadata": {},
     "source": [
      "Don't have to switch between file-browser, terminal, and notebook.\n",
      "\n",
      "Input comes from the cells and output is displayed below the input."
     ]
    },
    {
     "cell_type": "code",
     "collapsed": false,
     "input": [
      "print('Hello')"
     ],
     "language": "python",
     "metadata": {},
     "outputs": [
      {
       "output_type": "stream",
       "stream": "stdout",
       "text": [
        "Hello\n"
       ]
      }
     ],
     "prompt_number": 2
    },
    {
     "cell_type": "code",
     "collapsed": false,
     "input": [
      "'Hello'"
     ],
     "language": "python",
     "metadata": {},
     "outputs": [
      {
       "metadata": {},
       "output_type": "pyout",
       "prompt_number": 3,
       "text": [
        "'Hello'"
       ]
      }
     ],
     "prompt_number": 3
    },
    {
     "cell_type": "heading",
     "level": 3,
     "metadata": {},
     "source": [
      "Tab-completion"
     ]
    },
    {
     "cell_type": "code",
     "collapsed": false,
     "input": [
      "# Try typing \"import co\" and pressing tab.\n",
      "import collections"
     ],
     "language": "python",
     "metadata": {},
     "outputs": [],
     "prompt_number": 4
    },
    {
     "cell_type": "code",
     "collapsed": false,
     "input": [
      "# Try typing \"collections.C\" and pressing tab.\n",
      "collections.Counter"
     ],
     "language": "python",
     "metadata": {},
     "outputs": [
      {
       "metadata": {},
       "output_type": "pyout",
       "prompt_number": 5,
       "text": [
        "collections.Counter"
       ]
      }
     ],
     "prompt_number": 5
    },
    {
     "cell_type": "heading",
     "level": 3,
     "metadata": {},
     "source": [
      "Syntax highlighting"
     ]
    },
    {
     "cell_type": "code",
     "collapsed": false,
     "input": [
      "an_integer = 1\n",
      "\n",
      "a_bool = True\n",
      "\n",
      "# A comment\n",
      "\n",
      "\"\"\"A\n",
      "Multi-\n",
      "Line\n",
      "String\n",
      "\"\"\"\n",
      "\n",
      "# Keywords, builtins, operators\n",
      "for i in (1, 2):\n",
      "    i**2\n"
     ],
     "language": "python",
     "metadata": {},
     "outputs": [],
     "prompt_number": 6
    },
    {
     "cell_type": "markdown",
     "metadata": {},
     "source": [
      "All the hints that colour provides aren't lost."
     ]
    },
    {
     "cell_type": "heading",
     "level": 3,
     "metadata": {},
     "source": [
      "Help"
     ]
    },
    {
     "cell_type": "markdown",
     "metadata": {},
     "source": [
      "Help is right there with tab, ?, and ??"
     ]
    },
    {
     "cell_type": "code",
     "collapsed": false,
     "input": [
      "# Try by uncommenting each of the lines below\n",
      "# and re-commenting when finished.\n",
      "\n",
      "# Try pressing tab after the (\n",
      "# collections.Counter(\n",
      "\n",
      "# Try pressing shift-enter once uncommented.\n",
      "# collections.Counter?\n",
      "# collections.Counter??\n",
      "# collections??"
     ],
     "language": "python",
     "metadata": {},
     "outputs": [],
     "prompt_number": 7
    },
    {
     "cell_type": "heading",
     "level": 3,
     "metadata": {},
     "source": [
      "Multi-line cells"
     ]
    },
    {
     "cell_type": "code",
     "collapsed": false,
     "input": [
      "def a_function(some_argument):\n",
      "    \"\"\"A pure function to help out printing.\"\"\"\n",
      "    print(some_argument)\n",
      "\n",
      "class GoingToUseAHelperFunction():\n",
      "    \"\"\"Class that uses a pure function for help.\"\"\"\n",
      "    def __init__(self, text):\n",
      "        self.text = text\n",
      "\n",
      "    def write_me(self):\n",
      "        a_function(self.text)\n",
      "\n",
      "a = GoingToUseAHelperFunction('Hello')\n",
      "a.write_me()"
     ],
     "language": "python",
     "metadata": {},
     "outputs": [
      {
       "output_type": "stream",
       "stream": "stdout",
       "text": [
        "Hello\n"
       ]
      }
     ],
     "prompt_number": 8
    },
    {
     "cell_type": "heading",
     "level": 3,
     "metadata": {},
     "source": [
      "See the code"
     ]
    },
    {
     "cell_type": "code",
     "collapsed": false,
     "input": [
      "class Login():\n",
      "    \"\"\"Supplies the login details.\"\"\"\n",
      "    \n",
      "    def credentials(self):\n",
      "        return ('username', 'password')\n",
      "\n",
      "\n",
      "class Server():\n",
      "    \"\"\"Stores the server address, port, and protocol.\"\"\"\n",
      "    \n",
      "    def address(self):\n",
      "        return 'http://localhost:80'"
     ],
     "language": "python",
     "metadata": {},
     "outputs": [],
     "prompt_number": 9
    },
    {
     "cell_type": "code",
     "collapsed": false,
     "input": [
      "class ServerSession():\n",
      "    \"\"\"Session-manager for the connection to the server.\"\"\"\n",
      "    \n",
      "    def __init__(self, server, login):\n",
      "        self.server = server\n",
      "        self.login = login\n",
      "        self.connection = None\n",
      "    \n",
      "    def connect(self):\n",
      "        server_address = self.server.address()\n",
      "        server_credentials = self.login.credentials()\n",
      "        print(server_address)\n",
      "        print(server_credentials)\n",
      "        \n",
      "        # Connection is created here\n"
     ],
     "language": "python",
     "metadata": {},
     "outputs": [],
     "prompt_number": 10
    },
    {
     "cell_type": "code",
     "collapsed": false,
     "input": [
      "session = ServerSession(Server(), Login())\n",
      "session.connect()"
     ],
     "language": "python",
     "metadata": {},
     "outputs": [
      {
       "output_type": "stream",
       "stream": "stdout",
       "text": [
        "http://localhost:80\n",
        "('username', 'password')\n"
       ]
      }
     ],
     "prompt_number": 11
    },
    {
     "cell_type": "markdown",
     "metadata": {},
     "source": [
      "Once a piece of code is stable, it can be moved out to it's own module and imported."
     ]
    },
    {
     "cell_type": "heading",
     "level": 3,
     "metadata": {},
     "source": [
      "See the data"
     ]
    },
    {
     "cell_type": "markdown",
     "metadata": {},
     "source": [
      "Automatically formats data in human-readable formats.\n",
      "\n",
      "Humans are bad at parsing unformatted data."
     ]
    },
    {
     "cell_type": "code",
     "collapsed": false,
     "input": [
      "{k: k**2 for k in range(1, 60, 3)}"
     ],
     "language": "python",
     "metadata": {},
     "outputs": [
      {
       "metadata": {},
       "output_type": "pyout",
       "prompt_number": 12,
       "text": [
        "{1: 1,\n",
        " 4: 16,\n",
        " 7: 49,\n",
        " 10: 100,\n",
        " 13: 169,\n",
        " 16: 256,\n",
        " 19: 361,\n",
        " 22: 484,\n",
        " 25: 625,\n",
        " 28: 784,\n",
        " 31: 961,\n",
        " 34: 1156,\n",
        " 37: 1369,\n",
        " 40: 1600,\n",
        " 43: 1849,\n",
        " 46: 2116,\n",
        " 49: 2401,\n",
        " 52: 2704,\n",
        " 55: 3025,\n",
        " 58: 3364}"
       ]
      }
     ],
     "prompt_number": 12
    },
    {
     "cell_type": "heading",
     "level": 3,
     "metadata": {},
     "source": [
      "See the error"
     ]
    },
    {
     "cell_type": "markdown",
     "metadata": {},
     "source": [
      "See how you can debug in nice, syntax-highlighted tracebacks after the Login() and Server() arguments have their order swapped."
     ]
    },
    {
     "cell_type": "code",
     "collapsed": false,
     "input": [
      "session = ServerSession(Login(), Server())\n",
      "session.connect()"
     ],
     "language": "python",
     "metadata": {},
     "outputs": [
      {
       "ename": "AttributeError",
       "evalue": "'Login' object has no attribute 'address'",
       "output_type": "pyerr",
       "traceback": [
        "\u001b[0;31m---------------------------------------------------------------------------\u001b[0m\n\u001b[0;31mAttributeError\u001b[0m                            Traceback (most recent call last)",
        "\u001b[0;32m<ipython-input-13-0bf45f290bd6>\u001b[0m in \u001b[0;36m<module>\u001b[0;34m()\u001b[0m\n\u001b[1;32m      1\u001b[0m \u001b[0msession\u001b[0m \u001b[0;34m=\u001b[0m \u001b[0mServerSession\u001b[0m\u001b[0;34m(\u001b[0m\u001b[0mLogin\u001b[0m\u001b[0;34m(\u001b[0m\u001b[0;34m)\u001b[0m\u001b[0;34m,\u001b[0m \u001b[0mServer\u001b[0m\u001b[0;34m(\u001b[0m\u001b[0;34m)\u001b[0m\u001b[0;34m)\u001b[0m\u001b[0;34m\u001b[0m\u001b[0m\n\u001b[0;32m----> 2\u001b[0;31m \u001b[0msession\u001b[0m\u001b[0;34m.\u001b[0m\u001b[0mconnect\u001b[0m\u001b[0;34m(\u001b[0m\u001b[0;34m)\u001b[0m\u001b[0;34m\u001b[0m\u001b[0m\n\u001b[0m",
        "\u001b[0;32m<ipython-input-10-38220561f7ae>\u001b[0m in \u001b[0;36mconnect\u001b[0;34m(self)\u001b[0m\n\u001b[1;32m      8\u001b[0m \u001b[0;34m\u001b[0m\u001b[0m\n\u001b[1;32m      9\u001b[0m     \u001b[0;32mdef\u001b[0m \u001b[0mconnect\u001b[0m\u001b[0;34m(\u001b[0m\u001b[0mself\u001b[0m\u001b[0;34m)\u001b[0m\u001b[0;34m:\u001b[0m\u001b[0;34m\u001b[0m\u001b[0m\n\u001b[0;32m---> 10\u001b[0;31m         \u001b[0mserver_address\u001b[0m \u001b[0;34m=\u001b[0m \u001b[0mself\u001b[0m\u001b[0;34m.\u001b[0m\u001b[0mserver\u001b[0m\u001b[0;34m.\u001b[0m\u001b[0maddress\u001b[0m\u001b[0;34m(\u001b[0m\u001b[0;34m)\u001b[0m\u001b[0;34m\u001b[0m\u001b[0m\n\u001b[0m\u001b[1;32m     11\u001b[0m         \u001b[0mserver_credentials\u001b[0m \u001b[0;34m=\u001b[0m \u001b[0mself\u001b[0m\u001b[0;34m.\u001b[0m\u001b[0mlogin\u001b[0m\u001b[0;34m.\u001b[0m\u001b[0mcredentials\u001b[0m\u001b[0;34m(\u001b[0m\u001b[0;34m)\u001b[0m\u001b[0;34m\u001b[0m\u001b[0m\n\u001b[1;32m     12\u001b[0m         \u001b[0mprint\u001b[0m\u001b[0;34m(\u001b[0m\u001b[0mserver_address\u001b[0m\u001b[0;34m)\u001b[0m\u001b[0;34m\u001b[0m\u001b[0m\n",
        "\u001b[0;31mAttributeError\u001b[0m: 'Login' object has no attribute 'address'"
       ]
      }
     ],
     "prompt_number": 13
    },
    {
     "cell_type": "heading",
     "level": 3,
     "metadata": {},
     "source": [
      "Markdown notes"
     ]
    },
    {
     "cell_type": "markdown",
     "metadata": {},
     "source": [
      "You have a place to write down your discoveries, plans, etc."
     ]
    },
    {
     "cell_type": "markdown",
     "metadata": {},
     "source": [
      "1. Tried looping over resources on server.\n",
      "    - __failed__ when moving between different extraction types.\n",
      "2. Tried logging in again as we move between extraction types\n",
      "    - works, but must rate-limit the login attempts.\n",
      "    - if type-extractions complete too quickly, server will ban the account of the user logging in.\n",
      "\n",
      "---\n",
      "\n",
      "Here's what I saw when I last tried to log in\n",
      "\n",
      "![](files/last_error_msg.png)"
     ]
    },
    {
     "cell_type": "heading",
     "level": 3,
     "metadata": {},
     "source": [
      "Multiple Languages"
     ]
    },
    {
     "cell_type": "code",
     "collapsed": false,
     "input": [
      "%%bash\n",
      "for i in $( ls ); do\n",
      "    echo item: $i\n",
      "done"
     ],
     "language": "python",
     "metadata": {},
     "outputs": [
      {
       "output_type": "stream",
       "stream": "stdout",
       "text": [
        "item: Gruntfile.js\n",
        "item: LICENSE\n",
        "item: Notebook_Talk.ipynb\n",
        "item: README.md\n",
        "item: css\n",
        "item: index.html\n",
        "item: js\n",
        "item: last_error_msg.png\n",
        "item: lib\n",
        "item: package.json\n",
        "item: plugin\n",
        "item: test\n"
       ]
      }
     ],
     "prompt_number": 14
    },
    {
     "cell_type": "code",
     "collapsed": false,
     "input": [
      "notebooks = !ls | grep \"ipynb$\"\n",
      "for notebook in notebooks:\n",
      "    print(notebook)\n",
      "curdir = !pwd\n",
      "print(curdir)"
     ],
     "language": "python",
     "metadata": {},
     "outputs": [
      {
       "output_type": "stream",
       "stream": "stdout",
       "text": [
        "Notebook_Talk.ipynb\n"
       ]
      },
      {
       "output_type": "stream",
       "stream": "stdout",
       "text": [
        "['/IPython_Development_Lessons']\n"
       ]
      }
     ],
     "prompt_number": 15
    },
    {
     "cell_type": "code",
     "collapsed": false,
     "input": [
      "%%ruby\n",
      "class Greeter\n",
      "  def initialize(name = \"World\")\n",
      "    @name = name\n",
      "  end\n",
      "  def say_hi\n",
      "    puts \"Hi #{@name}!\"\n",
      "  end\n",
      "  def say_bye\n",
      "    puts \"Bye #{@name}, come back soon.\"\n",
      "  end\n",
      "end\n",
      "\n",
      "g = Greeter.new(\"Pat\")\n",
      "g.say_hi\n",
      "g.say_bye"
     ],
     "language": "python",
     "metadata": {},
     "outputs": [
      {
       "output_type": "stream",
       "stream": "stdout",
       "text": [
        "Hi Pat!\n",
        "Bye Pat, come back soon.\n"
       ]
      }
     ],
     "prompt_number": 16
    },
    {
     "cell_type": "markdown",
     "metadata": {},
     "source": [
      "Language extensions are available for Ruby, JavaScript, Bash, Perl, Julia, R, Octave"
     ]
    }
   ],
   "metadata": {}
  }
 ]
}